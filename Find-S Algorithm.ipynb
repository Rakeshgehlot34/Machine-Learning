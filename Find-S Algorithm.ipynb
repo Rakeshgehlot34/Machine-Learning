{
 "cells": [
  {
   "cell_type": "markdown",
   "metadata": {},
   "source": [
    "# Assignment-1\n",
    "\n",
    "---\n",
    "---\n",
    "\n",
    "**<u>Objective:</u> Implement and Demonstrate Find-S Algorithm for finding the most specific hypothesis based on a given training data samples. Read the training data from .CSV file.**\n",
    "\n",
    "---"
   ]
  },
  {
   "cell_type": "markdown",
   "metadata": {},
   "source": [
    "**Step-1: Importing necessory libraries.**\n",
    "\n",
    "- numpy for numerical operations.\n",
    "- pandas for reading csv. "
   ]
  },
  {
   "cell_type": "code",
   "execution_count": 1,
   "metadata": {},
   "outputs": [],
   "source": [
    "import numpy as np\n",
    "import pandas as pd"
   ]
  },
  {
   "cell_type": "markdown",
   "metadata": {},
   "source": [
    "---\n",
    "\n",
    "**Step-2: Reading csv file.**"
   ]
  },
  {
   "cell_type": "code",
   "execution_count": 3,
   "metadata": {},
   "outputs": [],
   "source": [
    "df = pd.read_csv(\"./Covid.csv\")"
   ]
  },
  {
   "cell_type": "markdown",
   "metadata": {},
   "source": [
    "---\n",
    "\n",
    "**Step-3: Inspection of data and understanding it.** "
   ]
  },
  {
   "cell_type": "code",
   "execution_count": 4,
   "metadata": {},
   "outputs": [
    {
     "data": {
      "text/html": [
       "<div>\n",
       "<style scoped>\n",
       "    .dataframe tbody tr th:only-of-type {\n",
       "        vertical-align: middle;\n",
       "    }\n",
       "\n",
       "    .dataframe tbody tr th {\n",
       "        vertical-align: top;\n",
       "    }\n",
       "\n",
       "    .dataframe thead th {\n",
       "        text-align: right;\n",
       "    }\n",
       "</style>\n",
       "<table border=\"1\" class=\"dataframe\">\n",
       "  <thead>\n",
       "    <tr style=\"text-align: right;\">\n",
       "      <th></th>\n",
       "      <th>Unnamed: 0</th>\n",
       "      <th>FEVER</th>\n",
       "      <th>COUGH</th>\n",
       "      <th>BI</th>\n",
       "      <th>SMELL</th>\n",
       "      <th>TASTE</th>\n",
       "      <th>INFECTED</th>\n",
       "    </tr>\n",
       "  </thead>\n",
       "  <tbody>\n",
       "    <tr>\n",
       "      <th>0</th>\n",
       "      <td>0</td>\n",
       "      <td>N</td>\n",
       "      <td>N</td>\n",
       "      <td>N</td>\n",
       "      <td>N</td>\n",
       "      <td>N</td>\n",
       "      <td>0</td>\n",
       "    </tr>\n",
       "    <tr>\n",
       "      <th>1</th>\n",
       "      <td>1</td>\n",
       "      <td>Y</td>\n",
       "      <td>Y</td>\n",
       "      <td>Y</td>\n",
       "      <td>Y</td>\n",
       "      <td>Y</td>\n",
       "      <td>1</td>\n",
       "    </tr>\n",
       "    <tr>\n",
       "      <th>2</th>\n",
       "      <td>2</td>\n",
       "      <td>Y</td>\n",
       "      <td>Y</td>\n",
       "      <td>N</td>\n",
       "      <td>Y</td>\n",
       "      <td>N</td>\n",
       "      <td>0</td>\n",
       "    </tr>\n",
       "    <tr>\n",
       "      <th>3</th>\n",
       "      <td>3</td>\n",
       "      <td>Y</td>\n",
       "      <td>N</td>\n",
       "      <td>Y</td>\n",
       "      <td>Y</td>\n",
       "      <td>Y</td>\n",
       "      <td>1</td>\n",
       "    </tr>\n",
       "    <tr>\n",
       "      <th>4</th>\n",
       "      <td>4</td>\n",
       "      <td>Y</td>\n",
       "      <td>Y</td>\n",
       "      <td>Y</td>\n",
       "      <td>Y</td>\n",
       "      <td>Y</td>\n",
       "      <td>1</td>\n",
       "    </tr>\n",
       "  </tbody>\n",
       "</table>\n",
       "</div>"
      ],
      "text/plain": [
       "   Unnamed: 0 FEVER COUGH BI SMELL TASTE  INFECTED\n",
       "0           0     N     N  N     N     N         0\n",
       "1           1     Y     Y  Y     Y     Y         1\n",
       "2           2     Y     Y  N     Y     N         0\n",
       "3           3     Y     N  Y     Y     Y         1\n",
       "4           4     Y     Y  Y     Y     Y         1"
      ]
     },
     "execution_count": 4,
     "metadata": {},
     "output_type": "execute_result"
    }
   ],
   "source": [
    "df.head()"
   ]
  },
  {
   "cell_type": "markdown",
   "metadata": {},
   "source": [
    "About Code (Just for knowledge):\n",
    "- This df.head() code prints first 5 lines of your dataframe. \n",
    "\n",
    "About Data:\n",
    "- Total 6 columns are there.\n",
    "- Fever, Cough, Breathing issues, Smell and test are features. \n",
    "- infected column is our target column.\n",
    "- infected column has binary data. (1/0) representing +ve and -ve results."
   ]
  },
  {
   "cell_type": "code",
   "execution_count": 5,
   "metadata": {},
   "outputs": [
    {
     "data": {
      "text/plain": [
       "(14, 7)"
      ]
     },
     "execution_count": 5,
     "metadata": {},
     "output_type": "execute_result"
    }
   ],
   "source": [
    "df.shape"
   ]
  },
  {
   "cell_type": "markdown",
   "metadata": {},
   "source": [
    "This shows that in our dataframe total 14 raws and 6 columns are available."
   ]
  },
  {
   "cell_type": "code",
   "execution_count": 6,
   "metadata": {},
   "outputs": [
    {
     "name": "stdout",
     "output_type": "stream",
     "text": [
      "<class 'pandas.core.frame.DataFrame'>\n",
      "RangeIndex: 14 entries, 0 to 13\n",
      "Data columns (total 7 columns):\n",
      " #   Column      Non-Null Count  Dtype \n",
      "---  ------      --------------  ----- \n",
      " 0   Unnamed: 0  14 non-null     int64 \n",
      " 1   FEVER       14 non-null     object\n",
      " 2   COUGH       14 non-null     object\n",
      " 3   BI          14 non-null     object\n",
      " 4   SMELL       14 non-null     object\n",
      " 5   TASTE       14 non-null     object\n",
      " 6   INFECTED    14 non-null     int64 \n",
      "dtypes: int64(2), object(5)\n",
      "memory usage: 912.0+ bytes\n"
     ]
    }
   ],
   "source": [
    "df.info()"
   ]
  },
  {
   "cell_type": "markdown",
   "metadata": {},
   "source": [
    "This shows details of your dataframe:\n",
    "- Data type and non null value of each feature and target.\n",
    "- memory usage of this dataframe."
   ]
  },
  {
   "cell_type": "markdown",
   "metadata": {},
   "source": [
    "---\n",
    "**Step-4: Seperating features and target**"
   ]
  },
  {
   "cell_type": "code",
   "execution_count": 7,
   "metadata": {},
   "outputs": [],
   "source": [
    "# features is all features where [:,:-1] represents [rows, columns] i.e. all rows and all columns expect last one (:-1).\n",
    "features = np.array(df)[:,:-1]\n",
    "# target is last column where [:,-1] represents [rows, columns] i.e. all rows and last one column(-1).\n",
    "target = np.array(df)[:,-1]"
   ]
  },
  {
   "cell_type": "markdown",
   "metadata": {},
   "source": [
    "---\n",
    "**Setp-5: Implementing Find-s algorithm**\n",
    "\n",
    "- finding first positive event.\n",
    "- ho is equals to first positive event.\n",
    "- find next positive event.\n",
    "- for all features check, if this hypothesis matches with previous one, keep is same else replace it with '?' means generic.\n",
    "- at the end last hypothesis h(n) will be your result."
   ]
  },
  {
   "cell_type": "code",
   "execution_count": 8,
   "metadata": {},
   "outputs": [],
   "source": [
    "def find_s(fet,tar):\n",
    "    final_list = []\n",
    "    # Running Loop to find +ve/-ve for all events/rows.\n",
    "    for i, val_tar in enumerate(tar):\n",
    "        #Step-1: finding positive.\n",
    "        if val_tar == 1:\n",
    "            #Step-2: assigining in variable \"current_hypothesis\".\n",
    "            current_hypothesis = list(fet[i])\n",
    "            final_list.append(current_hypothesis)\n",
    "        else:\n",
    "            try:\n",
    "                final_list.append(final_list[i-1])\n",
    "            except:\n",
    "                final_list = final_list\n",
    "                \n",
    "    #Step-4: checking every other hypothesis to find if any previous value is same or not.          \n",
    "    for i in range(1, len(final_list)):\n",
    "        for j in range(0, len(final_list[i])):\n",
    "            if final_list[i][j] != final_list[i-1][j]:\n",
    "                final_list[i][j] = '?'\n",
    "                \n",
    "    # returning last hypothesis as it is result.\n",
    "    return final_list[-1]"
   ]
  },
  {
   "cell_type": "code",
   "execution_count": 9,
   "metadata": {},
   "outputs": [
    {
     "data": {
      "text/plain": [
       "['?', '?', '?', 'Y', 'Y', 'Y']"
      ]
     },
     "execution_count": 9,
     "metadata": {},
     "output_type": "execute_result"
    }
   ],
   "source": [
    "# calling function\n",
    "find_s(features, target)"
   ]
  },
  {
   "cell_type": "markdown",
   "metadata": {},
   "source": [
    "**Conclusion: First two features are generic, rest 3 must be 'Yes' for +ve response.**"
   ]
  },
  {
   "cell_type": "code",
   "execution_count": null,
   "metadata": {},
   "outputs": [],
   "source": []
  }
 ],
 "metadata": {
  "kernelspec": {
   "display_name": "Python 3",
   "language": "python",
   "name": "python3"
  },
  "language_info": {
   "codemirror_mode": {
    "name": "ipython",
    "version": 3
   },
   "file_extension": ".py",
   "mimetype": "text/x-python",
   "name": "python",
   "nbconvert_exporter": "python",
   "pygments_lexer": "ipython3",
   "version": "3.8.5"
  }
 },
 "nbformat": 4,
 "nbformat_minor": 4
}
