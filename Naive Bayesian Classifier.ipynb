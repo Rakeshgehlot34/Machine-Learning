{
 "cells": [
  {
   "cell_type": "code",
   "execution_count": 34,
   "metadata": {},
   "outputs": [],
   "source": [
    "import numpy as np\n",
    "import pandas as pd"
   ]
  },
  {
   "cell_type": "code",
   "execution_count": 39,
   "metadata": {},
   "outputs": [],
   "source": [
    "a = pd.read_csv(\"./Naive.csv\")"
   ]
  },
  {
   "cell_type": "code",
   "execution_count": 40,
   "metadata": {},
   "outputs": [
    {
     "name": "stdout",
     "output_type": "stream",
     "text": [
      "[['Rain' 3 'High' False 'No']\n",
      " ['Rain' 3 'High' True 'No']\n",
      " ['Overcast' 3 'High' False 'Yes']\n",
      " ['Sunny' 2 'High' False 'Yes']\n",
      " ['Sunny' 1 'Normal' False 'Yes']\n",
      " ['Sunny' 1 'Normal' True 'No']\n",
      " ['Overcast' 1 'Normal' True 'Yes']\n",
      " ['Rain' 2 'High' False 'No']\n",
      " ['Rain' 1 'Normal' False 'Yes']\n",
      " ['Sunny' 2 'Normal' False 'Yes']\n",
      " ['Rain' 2 'Normal' True 'Yes']\n",
      " ['Overcast' 2 'High' True 'Yes']\n",
      " ['Overcast' 3 'Normal' False 'Yes']\n",
      " ['Sunny' 2 'High' True 'No']]\n"
     ]
    }
   ],
   "source": [
    "b = np.array(a)\n",
    "print(b)"
   ]
  },
  {
   "cell_type": "code",
   "execution_count": 41,
   "metadata": {},
   "outputs": [
    {
     "name": "stdout",
     "output_type": "stream",
     "text": [
      "[['Rain' 3 'High' False 'No']\n",
      " ['Rain' 3 'High' True 'No']\n",
      " ['Overcast' 3 'High' False 'Yes']\n",
      " ['Sunny' 2 'High' False 'Yes']\n",
      " ['Sunny' 1 'Normal' False 'Yes']\n",
      " ['Sunny' 1 'Normal' True 'No']\n",
      " ['Overcast' 1 'Normal' True 'Yes']\n",
      " ['Rain' 2 'High' False 'No']\n",
      " ['Rain' 1 'Normal' False 'Yes']\n",
      " ['Sunny' 2 'Normal' False 'Yes']\n",
      " ['Rain' 2 'Normal' True 'Yes']\n",
      " ['Overcast' 2 'High' True 'Yes']\n",
      " ['Overcast' 3 'Normal' False 'Yes']]\n"
     ]
    }
   ],
   "source": [
    "c = b[:-1,:] #training data\n",
    "print(c)"
   ]
  },
  {
   "cell_type": "code",
   "execution_count": 42,
   "metadata": {},
   "outputs": [
    {
     "name": "stdout",
     "output_type": "stream",
     "text": [
      "['Sunny' 2 'High' True 'No']\n"
     ]
    }
   ],
   "source": [
    "d = b[-1,:] #Test data \n",
    "print(d)"
   ]
  },
  {
   "cell_type": "code",
   "execution_count": 76,
   "metadata": {},
   "outputs": [
    {
     "name": "stdout",
     "output_type": "stream",
     "text": [
      "0.6923076923076923 0.3076923076923077\n",
      "13\n"
     ]
    }
   ],
   "source": [
    "#probability of yes or no\n",
    "py = sum(c[:,-1]=='Yes')/(len(c))\n",
    "pn = sum(c[:,-1]=='No')/(len(c))\n",
    "print(py, pn)"
   ]
  },
  {
   "cell_type": "code",
   "execution_count": 108,
   "metadata": {},
   "outputs": [
    {
     "name": "stdout",
     "output_type": "stream",
     "text": [
      "4.333333333333333 5.777777777777778 4.333333333333333 4.333333333333333\n",
      "3.25 3.25 9.75 6.5\n"
     ]
    }
   ],
   "source": [
    "#frequency for 'Rain'\n",
    "e1 = []\n",
    "e2 = []\n",
    "e3 = []\n",
    "e4 = []\n",
    "for i in range (len(c)):\n",
    "    if (c[i,-1]=='Yes'):\n",
    "        e1.append(c[i,0]== d[0])\n",
    "        f1=sum(e1)/py\n",
    "        e2.append(c[i,1]== d[1])\n",
    "        f2=sum(e2)/py\n",
    "        e3.append(c[i,2]== d[2])\n",
    "        f3=sum(e3)/py\n",
    "        e4.append(c[i,3]== d[3])\n",
    "        f4=sum(e4)/py\n",
    "print(f1,f2,f3,f4)\n",
    "g1 = []\n",
    "g2 = []\n",
    "g3 = []\n",
    "g4 = []\n",
    "for i in range (len(c)):\n",
    "    if (c[i,-1]=='No'):\n",
    "        g1.append(c[i,0]== d[0])\n",
    "        h1=sum(g1)/pn\n",
    "        g2.append(c[i,1]== d[1])\n",
    "        h2=sum(g2)/pn\n",
    "        g3.append(c[i,2]== d[2])\n",
    "        h3=sum(g3)/pn\n",
    "        g4.append(c[i,3]== d[3])\n",
    "        h4=sum(g4)/pn\n",
    "print(h1,h2,h3,h4)\n"
   ]
  },
  {
   "cell_type": "code",
   "execution_count": 112,
   "metadata": {},
   "outputs": [
    {
     "name": "stdout",
     "output_type": "stream",
     "text": [
      "25.037037037037027\n",
      "15.84375\n"
     ]
    }
   ],
   "source": [
    "cpyes = f1*f2*f3*f4*py/len(c)\n",
    "print(cpyes)\n",
    "cpno = h1*h2*h3*h4*pn/len(c)\n",
    "print(cpno)"
   ]
  },
  {
   "cell_type": "code",
   "execution_count": 113,
   "metadata": {},
   "outputs": [
    {
     "name": "stdout",
     "output_type": "stream",
     "text": [
      "0.6124401913875598\n",
      "0.3875598086124403\n"
     ]
    }
   ],
   "source": [
    "poyes = cpyes/(cpyes+cpno)\n",
    "print(poyes)\n",
    "pono = cpno/(cpyes+cpno)\n",
    "print(pono)"
   ]
  }
 ],
 "metadata": {
  "kernelspec": {
   "display_name": "Python 3",
   "language": "python",
   "name": "python3"
  },
  "language_info": {
   "codemirror_mode": {
    "name": "ipython",
    "version": 3
   },
   "file_extension": ".py",
   "mimetype": "text/x-python",
   "name": "python",
   "nbconvert_exporter": "python",
   "pygments_lexer": "ipython3",
   "version": "3.8.5"
  }
 },
 "nbformat": 4,
 "nbformat_minor": 4
}
