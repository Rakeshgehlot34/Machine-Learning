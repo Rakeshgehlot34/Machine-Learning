{
 "cells": [
  {
   "cell_type": "code",
   "execution_count": 1,
   "metadata": {},
   "outputs": [],
   "source": [
    "import numpy as np\n",
    "import pandas as pd"
   ]
  },
  {
   "cell_type": "code",
   "execution_count": 3,
   "metadata": {},
   "outputs": [],
   "source": [
    "a = pd.read_csv(\"./Iris.csv\")"
   ]
  },
  {
   "cell_type": "code",
   "execution_count": 4,
   "metadata": {},
   "outputs": [
    {
     "output_type": "stream",
     "name": "stdout",
     "text": [
      "      Id  SepalLengthCm  SepalWidthCm  PetalLengthCm  PetalWidthCm  \\\n0      1            5.1           3.5            1.4           0.2   \n1      2            4.9           3.0            1.4           0.2   \n2      3            4.7           3.2            1.3           0.2   \n3      4            4.6           3.1            1.5           0.2   \n4      5            5.0           3.6            1.4           0.2   \n..   ...            ...           ...            ...           ...   \n145  146            6.7           3.0            5.2           2.3   \n146  147            6.3           2.5            5.0           1.9   \n147  148            6.5           3.0            5.2           2.0   \n148  149            6.2           3.4            5.4           2.3   \n149  150            5.9           3.0            5.1           1.8   \n\n            Species  \n0       Iris-setosa  \n1       Iris-setosa  \n2       Iris-setosa  \n3       Iris-setosa  \n4       Iris-setosa  \n..              ...  \n145  Iris-virginica  \n146  Iris-virginica  \n147  Iris-virginica  \n148  Iris-virginica  \n149  Iris-virginica  \n\n[150 rows x 6 columns]\n"
     ]
    }
   ],
   "source": [
    "print(a)"
   ]
  },
  {
   "cell_type": "code",
   "execution_count": 5,
   "metadata": {},
   "outputs": [],
   "source": [
    "b = np.array(a) #training data"
   ]
  },
  {
   "cell_type": "code",
   "execution_count": 7,
   "metadata": {},
   "outputs": [
    {
     "output_type": "stream",
     "name": "stdout",
     "text": [
      "[5 5.0 3.6 1.4 0.2 'Iris-setosa']\n"
     ]
    }
   ],
   "source": [
    "c = b[4] # test data\n",
    "print(c)"
   ]
  },
  {
   "cell_type": "code",
   "execution_count": 9,
   "metadata": {},
   "outputs": [
    {
     "output_type": "stream",
     "name": "stdout",
     "text": [
      "b= [[1 5.1 3.5 1.4 0.2 'Iris-setosa']\n [2 4.9 3.0 1.4 0.2 'Iris-setosa']\n [3 4.7 3.2 1.3 0.2 'Iris-setosa']\n [4 4.6 3.1 1.5 0.2 'Iris-setosa']\n [5 5.0 3.6 1.4 0.2 'Iris-setosa']\n [6 5.4 3.9 1.7 0.4 'Iris-setosa']\n [7 4.6 3.4 1.4 0.3 'Iris-setosa']\n [8 5.0 3.4 1.5 0.2 'Iris-setosa']\n [9 4.4 2.9 1.4 0.2 'Iris-setosa']\n [10 4.9 3.1 1.5 0.1 'Iris-setosa']\n [11 5.4 3.7 1.5 0.2 'Iris-setosa']\n [12 4.8 3.4 1.6 0.2 'Iris-setosa']\n [13 4.8 3.0 1.4 0.1 'Iris-setosa']\n [14 4.3 3.0 1.1 0.1 'Iris-setosa']\n [15 5.8 4.0 1.2 0.2 'Iris-setosa']\n [16 5.7 4.4 1.5 0.4 'Iris-setosa']\n [17 5.4 3.9 1.3 0.4 'Iris-setosa']\n [18 5.1 3.5 1.4 0.3 'Iris-setosa']\n [19 5.7 3.8 1.7 0.3 'Iris-setosa']\n [20 5.1 3.8 1.5 0.3 'Iris-setosa']\n [21 5.4 3.4 1.7 0.2 'Iris-setosa']\n [22 5.1 3.7 1.5 0.4 'Iris-setosa']\n [23 4.6 3.6 1.0 0.2 'Iris-setosa']\n [24 5.1 3.3 1.7 0.5 'Iris-setosa']\n [25 4.8 3.4 1.9 0.2 'Iris-setosa']\n [26 5.0 3.0 1.6 0.2 'Iris-setosa']\n [27 5.0 3.4 1.6 0.4 'Iris-setosa']\n [28 5.2 3.5 1.5 0.2 'Iris-setosa']\n [29 5.2 3.4 1.4 0.2 'Iris-setosa']\n [30 4.7 3.2 1.6 0.2 'Iris-setosa']\n [31 4.8 3.1 1.6 0.2 'Iris-setosa']\n [32 5.4 3.4 1.5 0.4 'Iris-setosa']\n [33 5.2 4.1 1.5 0.1 'Iris-setosa']\n [34 5.5 4.2 1.4 0.2 'Iris-setosa']\n [35 4.9 3.1 1.5 0.1 'Iris-setosa']\n [36 5.0 3.2 1.2 0.2 'Iris-setosa']\n [37 5.5 3.5 1.3 0.2 'Iris-setosa']\n [38 4.9 3.1 1.5 0.1 'Iris-setosa']\n [39 4.4 3.0 1.3 0.2 'Iris-setosa']\n [40 5.1 3.4 1.5 0.2 'Iris-setosa']\n [41 5.0 3.5 1.3 0.3 'Iris-setosa']\n [42 4.5 2.3 1.3 0.3 'Iris-setosa']\n [43 4.4 3.2 1.3 0.2 'Iris-setosa']\n [44 5.0 3.5 1.6 0.6 'Iris-setosa']\n [45 5.1 3.8 1.9 0.4 'Iris-setosa']\n [46 4.8 3.0 1.4 0.3 'Iris-setosa']\n [47 5.1 3.8 1.6 0.2 'Iris-setosa']\n [48 4.6 3.2 1.4 0.2 'Iris-setosa']\n [49 5.3 3.7 1.5 0.2 'Iris-setosa']\n [50 5.0 3.3 1.4 0.2 'Iris-setosa']\n [51 7.0 3.2 4.7 1.4 'Iris-versicolor']\n [52 6.4 3.2 4.5 1.5 'Iris-versicolor']\n [53 6.9 3.1 4.9 1.5 'Iris-versicolor']\n [54 5.5 2.3 4.0 1.3 'Iris-versicolor']\n [55 6.5 2.8 4.6 1.5 'Iris-versicolor']\n [56 5.7 2.8 4.5 1.3 'Iris-versicolor']\n [57 6.3 3.3 4.7 1.6 'Iris-versicolor']\n [58 4.9 2.4 3.3 1.0 'Iris-versicolor']\n [59 6.6 2.9 4.6 1.3 'Iris-versicolor']\n [60 5.2 2.7 3.9 1.4 'Iris-versicolor']\n [61 5.0 2.0 3.5 1.0 'Iris-versicolor']\n [62 5.9 3.0 4.2 1.5 'Iris-versicolor']\n [63 6.0 2.2 4.0 1.0 'Iris-versicolor']\n [64 6.1 2.9 4.7 1.4 'Iris-versicolor']\n [65 5.6 2.9 3.6 1.3 'Iris-versicolor']\n [66 6.7 3.1 4.4 1.4 'Iris-versicolor']\n [67 5.6 3.0 4.5 1.5 'Iris-versicolor']\n [68 5.8 2.7 4.1 1.0 'Iris-versicolor']\n [69 6.2 2.2 4.5 1.5 'Iris-versicolor']\n [70 5.6 2.5 3.9 1.1 'Iris-versicolor']\n [71 5.9 3.2 4.8 1.8 'Iris-versicolor']\n [72 6.1 2.8 4.0 1.3 'Iris-versicolor']\n [73 6.3 2.5 4.9 1.5 'Iris-versicolor']\n [74 6.1 2.8 4.7 1.2 'Iris-versicolor']\n [75 6.4 2.9 4.3 1.3 'Iris-versicolor']\n [76 6.6 3.0 4.4 1.4 'Iris-versicolor']\n [77 6.8 2.8 4.8 1.4 'Iris-versicolor']\n [78 6.7 3.0 5.0 1.7 'Iris-versicolor']\n [79 6.0 2.9 4.5 1.5 'Iris-versicolor']\n [80 5.7 2.6 3.5 1.0 'Iris-versicolor']\n [81 5.5 2.4 3.8 1.1 'Iris-versicolor']\n [82 5.5 2.4 3.7 1.0 'Iris-versicolor']\n [83 5.8 2.7 3.9 1.2 'Iris-versicolor']\n [84 6.0 2.7 5.1 1.6 'Iris-versicolor']\n [85 5.4 3.0 4.5 1.5 'Iris-versicolor']\n [86 6.0 3.4 4.5 1.6 'Iris-versicolor']\n [87 6.7 3.1 4.7 1.5 'Iris-versicolor']\n [88 6.3 2.3 4.4 1.3 'Iris-versicolor']\n [89 5.6 3.0 4.1 1.3 'Iris-versicolor']\n [90 5.5 2.5 4.0 1.3 'Iris-versicolor']\n [91 5.5 2.6 4.4 1.2 'Iris-versicolor']\n [92 6.1 3.0 4.6 1.4 'Iris-versicolor']\n [93 5.8 2.6 4.0 1.2 'Iris-versicolor']\n [94 5.0 2.3 3.3 1.0 'Iris-versicolor']\n [95 5.6 2.7 4.2 1.3 'Iris-versicolor']\n [96 5.7 3.0 4.2 1.2 'Iris-versicolor']\n [97 5.7 2.9 4.2 1.3 'Iris-versicolor']\n [98 6.2 2.9 4.3 1.3 'Iris-versicolor']\n [99 5.1 2.5 3.0 1.1 'Iris-versicolor']\n [100 5.7 2.8 4.1 1.3 'Iris-versicolor']\n [101 6.3 3.3 6.0 2.5 'Iris-virginica']\n [102 5.8 2.7 5.1 1.9 'Iris-virginica']\n [103 7.1 3.0 5.9 2.1 'Iris-virginica']\n [104 6.3 2.9 5.6 1.8 'Iris-virginica']\n [105 6.5 3.0 5.8 2.2 'Iris-virginica']\n [106 7.6 3.0 6.6 2.1 'Iris-virginica']\n [107 4.9 2.5 4.5 1.7 'Iris-virginica']\n [108 7.3 2.9 6.3 1.8 'Iris-virginica']\n [109 6.7 2.5 5.8 1.8 'Iris-virginica']\n [110 7.2 3.6 6.1 2.5 'Iris-virginica']\n [111 6.5 3.2 5.1 2.0 'Iris-virginica']\n [112 6.4 2.7 5.3 1.9 'Iris-virginica']\n [113 6.8 3.0 5.5 2.1 'Iris-virginica']\n [114 5.7 2.5 5.0 2.0 'Iris-virginica']\n [115 5.8 2.8 5.1 2.4 'Iris-virginica']\n [116 6.4 3.2 5.3 2.3 'Iris-virginica']\n [117 6.5 3.0 5.5 1.8 'Iris-virginica']\n [118 7.7 3.8 6.7 2.2 'Iris-virginica']\n [119 7.7 2.6 6.9 2.3 'Iris-virginica']\n [120 6.0 2.2 5.0 1.5 'Iris-virginica']\n [121 6.9 3.2 5.7 2.3 'Iris-virginica']\n [122 5.6 2.8 4.9 2.0 'Iris-virginica']\n [123 7.7 2.8 6.7 2.0 'Iris-virginica']\n [124 6.3 2.7 4.9 1.8 'Iris-virginica']\n [125 6.7 3.3 5.7 2.1 'Iris-virginica']\n [126 7.2 3.2 6.0 1.8 'Iris-virginica']\n [127 6.2 2.8 4.8 1.8 'Iris-virginica']\n [128 6.1 3.0 4.9 1.8 'Iris-virginica']\n [129 6.4 2.8 5.6 2.1 'Iris-virginica']\n [130 7.2 3.0 5.8 1.6 'Iris-virginica']\n [131 7.4 2.8 6.1 1.9 'Iris-virginica']\n [132 7.9 3.8 6.4 2.0 'Iris-virginica']\n [133 6.4 2.8 5.6 2.2 'Iris-virginica']\n [134 6.3 2.8 5.1 1.5 'Iris-virginica']\n [135 6.1 2.6 5.6 1.4 'Iris-virginica']\n [136 7.7 3.0 6.1 2.3 'Iris-virginica']\n [137 6.3 3.4 5.6 2.4 'Iris-virginica']\n [138 6.4 3.1 5.5 1.8 'Iris-virginica']\n [139 6.0 3.0 4.8 1.8 'Iris-virginica']\n [140 6.9 3.1 5.4 2.1 'Iris-virginica']\n [141 6.7 3.1 5.6 2.4 'Iris-virginica']\n [142 6.9 3.1 5.1 2.3 'Iris-virginica']\n [143 5.8 2.7 5.1 1.9 'Iris-virginica']\n [144 6.8 3.2 5.9 2.3 'Iris-virginica']\n [145 6.7 3.3 5.7 2.5 'Iris-virginica']\n [146 6.7 3.0 5.2 2.3 'Iris-virginica']\n [147 6.3 2.5 5.0 1.9 'Iris-virginica']\n [148 6.5 3.0 5.2 2.0 'Iris-virginica']\n [149 6.2 3.4 5.4 2.3 'Iris-virginica']\n [150 5.9 3.0 5.1 1.8 'Iris-virginica']]\nc= [5 5.0 3.6 1.4 0.2 'Iris-setosa']\n"
     ]
    }
   ],
   "source": [
    "print(\"b=\",b)\n",
    "print(\"c=\",c)"
   ]
  },
  {
   "cell_type": "code",
   "execution_count": 10,
   "metadata": {},
   "outputs": [],
   "source": [
    "k=3"
   ]
  },
  {
   "cell_type": "code",
   "execution_count": 11,
   "metadata": {},
   "outputs": [
    {
     "output_type": "stream",
     "name": "stdout",
     "text": [
      "h= [4.001249804748512, 3.0016662039607267, 2.0223748416156684, 1.077032961426901, 0.0, 1.077032961426901, 2.039607805437114, 3.0, 4.044749683231337, 5.000999900019995, 6.013318551349164, 7.002856560004639, 8.002499609497024, 9.027181176868003, 10.031948963187562, 11.022250223978768, 12.006664815842907, 13.000384609695207, 14.01748907615055, 15.000333329629711, 16.004999218994048, 17.000294115102832, 18.00444389588304, 19.00026315607234, 20.00099997500125, 21.0, 22.0, 23.000869548780106, 24.000833318866242, 25.001799935204666, 26.000769219390413, 27.002962800403957, 28.00071427660373, 29.004310024546353, 30.000166666203707, 31.0, 32.00390601161052, 33.00015151480368, 34.00529370553944, 35.00014285685131, 36.0, 37.003378224156776, 38.00473654690952, 39.0, 40.00012499980469, 41.00048780197621, 42.00011904745033, 43.001860424869996, 44.001022715386966, 45.0, 46.04345773288535, 47.02084644070117, 48.03758944826437, 49.002550954006466, 50.02249493977684, 51.00480369533834, 52.01624746173065, 53.000094339538684, 54.023698503527136, 55.00036363516154, 56.0, 57.007104820364276, 58.008620049092706, 59.010253346346516, 60.00299992500375, 61.02368392681648, 62.00290315783609, 63.00507916033437, 64.01124901140423, 65.0027691717822, 66.00613607839804, 67.00902924233421, 68.0124253353753, 69.0087675589124, 70.01399860027993, 71.0180258807579, 72.0224964854732, 73.01979183755593, 74.00675644831355, 75.00326659552903, 76.00164471904539, 77.00162335951106, 78.00410245621701, 79.00632886041473, 80.00099999375007, 81.00617260431454, 82.01762005813141, 83.01018009858791, 84.00214282981119, 85.00147057551416, 86.00145347608958, 87.00695374508868, 88.00363628850799, 89.0, 90.00199997777827, 91.00269226786645, 92.00266300493698, 93.00774161326572, 94.00005319147431, 95.00257891236427, 96.008801679846, 97.00329891297511, 98.02249741768468, 99.00853498562637, 100.01124936725869, 101.03345980416587, 102.00004901959606, 103.02567641127139, 104.01389330276989, 105.02304509011344, 106.01061267627878, 107.00915848655198, 108.01499895847799, 109.00224768324733, 110.00290905244279, 111.00882847773865, 112.0100441924741, 113.03225203454102, 114.03196920162345, 115.00434774390054, 116.0155593013282, 117.0015384514238, 118.03088578842404, 119.00710062849191, 120.01204106255338, 121.0199983473806, 122.00590149660795, 123.00491860084294, 124.00790297396371, 125.01935850099376, 126.02285507002291, 127.03310592125189, 128.0076560210365, 129.0065502212969, 130.00465376285572, 131.02782147315128, 132.00640135993405, 133.00736821695256, 134.00373129133382, 135.01336970833665, 136.01062458499337, 137.0131745490192, 138.00231882109807, 139.01165418769753, 140.01032104812845, 141.01024785454425, 142.00595057954436, 143.00786691647423, 144.00499991319745, 145.00279307654733]\n"
     ]
    }
   ],
   "source": [
    "\n",
    "d=[]\n",
    "h=[]\n",
    "for i in range(len(b)):\n",
    "    d = np.subtract(b[i,:-1],c[:-1])\n",
    "    #print(\"d=\",d)\n",
    "    e = np.square(d)\n",
    "    #print(\"e=\",e)\n",
    "    f = np.sum(e[0:2])\n",
    "    #print(\"f\",f)\n",
    "    g = np.sqrt(f)\n",
    "    #print(\"g=\",g)\n",
    "    h.append(g)\n",
    "print(\"h=\",h)"
   ]
  },
  {
   "cell_type": "code",
   "execution_count": 12,
   "metadata": {},
   "outputs": [
    {
     "output_type": "stream",
     "name": "stdout",
     "text": [
      "j= [  4   3   5   2   6   7   1   0   8   9  10  11  12  13  14  15  16  17\n  18  19  20  21  22  23  24  25  26  27  28  29  30  31  32  33  34  35\n  36  37  38  39  40  41  42  43  44  45  46  47  48  49  50  51  52  53\n  54  55  56  57  58  59  60  61  62  63  64  65  66  67  68  69  70  71\n  72  73  74  75  76  77  78  79  80  81  82  83  84  85  86  87  88  89\n  90  91  92  93  94  95  96  97  98  99 100 101 102 103 104 105 106 107\n 108 109 110 111 112 113 114 115 116 117 118 119 120 121 122 123 124 125\n 126 127 128 129 130 131 132 133 134 135 136 137 138 139 140 141 142 143\n 144 145 146 147 148 149]\n"
     ]
    }
   ],
   "source": [
    "j=np.argsort(h)\n",
    "print(\"j=\",j)"
   ]
  },
  {
   "cell_type": "code",
   "execution_count": 13,
   "metadata": {},
   "outputs": [
    {
     "output_type": "stream",
     "name": "stdout",
     "text": [
      "Iris-setosa\nIris-setosa\nIris-setosa\n['Iris-setosa', 'Iris-setosa', 'Iris-setosa']\nn= 0\no= 0\n"
     ]
    }
   ],
   "source": [
    "m=[]\n",
    "for i in range(k):\n",
    "    l = b[j[i],-1]\n",
    "    print(l)\n",
    "    m.append(l)\n",
    "print(m)\n",
    "n = m.count(0.0)\n",
    "o = m.count(1.0)\n",
    "print(\"n=\",n)\n",
    "print(\"o=\",o)"
   ]
  },
  {
   "cell_type": "code",
   "execution_count": 14,
   "metadata": {},
   "outputs": [
    {
     "output_type": "stream",
     "name": "stdout",
     "text": [
      "c.l for t.p in 1.0\n"
     ]
    }
   ],
   "source": [
    "if n>0:\n",
    "    print(\"c.l for test point in 0.0\")\n",
    "else:\n",
    "        print(\"c.l for test point in 1.0\")"
   ]
  },
  {
   "cell_type": "code",
   "execution_count": null,
   "metadata": {},
   "outputs": [],
   "source": []
  }
 ],
 "metadata": {
  "kernelspec": {
   "name": "python3",
   "display_name": "Python 3.9.1 64-bit",
   "metadata": {
    "interpreter": {
     "hash": "38740d3277777e2cd7c6c2cc9d8addf5118fdf3f82b1b39231fd12aeac8aee8b"
    }
   }
  },
  "language_info": {
   "codemirror_mode": {
    "name": "ipython",
    "version": 3
   },
   "file_extension": ".py",
   "mimetype": "text/x-python",
   "name": "python",
   "nbconvert_exporter": "python",
   "pygments_lexer": "ipython3",
   "version": "3.9.1-final"
  }
 },
 "nbformat": 4,
 "nbformat_minor": 2
}