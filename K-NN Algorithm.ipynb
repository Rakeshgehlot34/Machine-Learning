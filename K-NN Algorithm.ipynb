{
 "cells": [
  {
   "cell_type": "code",
   "execution_count": 43,
   "metadata": {},
   "outputs": [],
   "source": [
    "import numpy as np\n",
    "import pandas as pd"
   ]
  },
  {
   "cell_type": "code",
   "execution_count": 44,
   "metadata": {},
   "outputs": [],
   "source": [
    "a = pd.read_csv(\"./Assignment3.csv\")"
   ]
  },
  {
   "cell_type": "code",
   "execution_count": 45,
   "metadata": {},
   "outputs": [
    {
     "name": "stdout",
     "output_type": "stream",
     "text": [
      "      x     y  class Label\n",
      "0  2.78  2.55            0\n",
      "1  1.46  2.36            0\n",
      "2  3.39  4.40            0\n",
      "3  1.38  1.85            0\n",
      "4  3.06  3.00            0\n",
      "5  7.62  2.75            1\n",
      "6  5.33  2.08            1\n",
      "7  6.92  1.77            1\n",
      "8  8.67 -0.24            1\n",
      "9  7.67  3.50            1\n"
     ]
    }
   ],
   "source": [
    "print(a)"
   ]
  },
  {
   "cell_type": "code",
   "execution_count": 46,
   "metadata": {},
   "outputs": [],
   "source": [
    "b = np.array(a) #training data"
   ]
  },
  {
   "cell_type": "code",
   "execution_count": 47,
   "metadata": {},
   "outputs": [
    {
     "name": "stdout",
     "output_type": "stream",
     "text": [
      "[3.06 3.   0.  ]\n"
     ]
    }
   ],
   "source": [
    "c = b[4] # test data\n",
    "print(c)"
   ]
  },
  {
   "cell_type": "code",
   "execution_count": 48,
   "metadata": {},
   "outputs": [
    {
     "name": "stdout",
     "output_type": "stream",
     "text": [
      "b= [[ 2.78  2.55  0.  ]\n",
      " [ 1.46  2.36  0.  ]\n",
      " [ 3.39  4.4   0.  ]\n",
      " [ 1.38  1.85  0.  ]\n",
      " [ 3.06  3.    0.  ]\n",
      " [ 7.62  2.75  1.  ]\n",
      " [ 5.33  2.08  1.  ]\n",
      " [ 6.92  1.77  1.  ]\n",
      " [ 8.67 -0.24  1.  ]\n",
      " [ 7.67  3.5   1.  ]]\n",
      "c= [3.06 3.   0.  ]\n"
     ]
    }
   ],
   "source": [
    "print(\"b=\",b)\n",
    "print(\"c=\",c)"
   ]
  },
  {
   "cell_type": "code",
   "execution_count": 49,
   "metadata": {},
   "outputs": [],
   "source": [
    "k=3"
   ]
  },
  {
   "cell_type": "code",
   "execution_count": 84,
   "metadata": {},
   "outputs": [
    {
     "name": "stdout",
     "output_type": "stream",
     "text": [
      "h= [0.5300000000000002, 1.7232527382830416, 1.4383671297690312, 2.0359027481684877, 0.0, 4.5668479282761325, 2.449346851713738, 4.051234379790929, 6.478402580883655, 4.637035691042284]\n"
     ]
    }
   ],
   "source": [
    "\n",
    "d=[]\n",
    "h=[]\n",
    "for i in range(len(b)):\n",
    "    d = np.subtract(b[i,:-1],c[:-1])\n",
    "    #print(\"d=\",d)\n",
    "    e = np.square(d)\n",
    "    #print(\"e=\",e)\n",
    "    f = np.sum(e[0:2])\n",
    "    #print(\"f\",f)\n",
    "    g = np.sqrt(f)\n",
    "    #print(\"g=\",g)\n",
    "    h.append(g)\n",
    "print(\"h=\",h)"
   ]
  },
  {
   "cell_type": "code",
   "execution_count": 86,
   "metadata": {},
   "outputs": [
    {
     "name": "stdout",
     "output_type": "stream",
     "text": [
      "j= [4 0 2 1 3 6 7 5 9 8]\n"
     ]
    }
   ],
   "source": [
    "j=np.argsort(h)\n",
    "print(\"j=\",j)"
   ]
  },
  {
   "cell_type": "code",
   "execution_count": 109,
   "metadata": {},
   "outputs": [
    {
     "name": "stdout",
     "output_type": "stream",
     "text": [
      "0.0\n",
      "0.0\n",
      "0.0\n",
      "[0.0, 0.0, 0.0]\n",
      "n= 3\n",
      "o= 0\n"
     ]
    }
   ],
   "source": [
    "m=[]\n",
    "for i in range(k):\n",
    "    l = b[j[i],-1]\n",
    "    print(l)\n",
    "    m.append(l)\n",
    "print(m)\n",
    "n = m.count(0.0)\n",
    "o = m.count(1.0)\n",
    "print(\"n=\",n)\n",
    "print(\"o=\",o)"
   ]
  },
  {
   "cell_type": "code",
   "execution_count": 111,
   "metadata": {},
   "outputs": [
    {
     "name": "stdout",
     "output_type": "stream",
     "text": [
      "c.l for test point in 0.0\n"
     ]
    }
   ],
   "source": [
    "if n>0:\n",
    "    print(\"c.l for test point in 0.0\")\n",
    "else:\n",
    "        print(\"c.l for t.p in 1.0\")"
   ]
  }
 ],
 "metadata": {
  "kernelspec": {
   "display_name": "Python 3",
   "language": "python",
   "name": "python3"
  },
  "language_info": {
   "codemirror_mode": {
    "name": "ipython",
    "version": 3
   },
   "file_extension": ".py",
   "mimetype": "text/x-python",
   "name": "python",
   "nbconvert_exporter": "python",
   "pygments_lexer": "ipython3",
   "version": "3.8.5"
  }
 },
 "nbformat": 4,
 "nbformat_minor": 2
}
