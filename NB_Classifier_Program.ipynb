{
 "metadata": {
  "language_info": {
   "codemirror_mode": {
    "name": "ipython",
    "version": 3
   },
   "file_extension": ".py",
   "mimetype": "text/x-python",
   "name": "python",
   "nbconvert_exporter": "python",
   "pygments_lexer": "ipython3",
   "version": "3.9.1-final"
  },
  "orig_nbformat": 2,
  "kernelspec": {
   "name": "python3",
   "display_name": "Python 3.9.1 64-bit",
   "metadata": {
    "interpreter": {
     "hash": "38740d3277777e2cd7c6c2cc9d8addf5118fdf3f82b1b39231fd12aeac8aee8b"
    }
   }
  }
 },
 "nbformat": 4,
 "nbformat_minor": 2,
 "cells": [
  {
   "cell_type": "code",
   "execution_count": 2,
   "metadata": {},
   "outputs": [],
   "source": [
    "import pandas as pd\n",
    "import numpy as np"
   ]
  },
  {
   "cell_type": "code",
   "execution_count": 4,
   "metadata": {},
   "outputs": [
    {
     "output_type": "stream",
     "name": "stdout",
     "text": [
      "   X  Y  Target\n0  2  2       0\n1  1  2       0\n2  3  4       0\n3  1  1       0\n4  3  3       0\n5  7  2       1\n6  6  2       1\n7  7  1       1\n8  8  0       1\n9  7  3       1\n"
     ]
    }
   ],
   "source": [
    "a = pd.read_csv(\"./NB_Classifier.csv\")\n",
    "print(a)"
   ]
  },
  {
   "cell_type": "code",
   "execution_count": 5,
   "metadata": {},
   "outputs": [
    {
     "output_type": "stream",
     "name": "stdout",
     "text": [
      "[[2 2 0]\n [1 2 0]\n [3 4 0]\n [1 1 0]\n [3 3 0]\n [7 2 1]\n [6 2 1]\n [7 1 1]\n [8 0 1]\n [7 3 1]]\n[array([2, 2], dtype=int64), array([1, 2], dtype=int64), array([3, 4], dtype=int64), array([1, 1], dtype=int64), array([3, 3], dtype=int64)]\n[array([7, 2], dtype=int64), array([6, 2], dtype=int64), array([7, 1], dtype=int64), array([8, 0], dtype=int64), array([7, 3], dtype=int64)]\n"
     ]
    }
   ],
   "source": [
    "b = np.array(a)\n",
    "print(b)\n",
    "#separation of dataset w.r.t. their targets\n",
    "c=[]\n",
    "d=[]\n",
    "for i in range(len(b)):\n",
    "    if (b[i,-1] == 0):\n",
    "        c.append(b[i,:-1])\n",
    "    else:\n",
    "        d.append(b[i,:-1])\n",
    "print(c)\n",
    "print(d)"
   ]
  },
  {
   "cell_type": "code",
   "execution_count": 6,
   "metadata": {},
   "outputs": [
    {
     "output_type": "stream",
     "name": "stdout",
     "text": [
      "[2.  2.4]\n[7.  1.6]\n"
     ]
    }
   ],
   "source": [
    "#Compute mean µ1 & µ2\n",
    "mo=[]\n",
    "m1=[]\n",
    "m0=sum(c)/len(c)\n",
    "m1=sum(d)/len(d)\n",
    "print(m0)\n",
    "print(m1)"
   ]
  },
  {
   "cell_type": "code",
   "execution_count": 8,
   "metadata": {},
   "outputs": [
    {
     "output_type": "stream",
     "name": "stdout",
     "text": [
      "[array([ 0. , -0.4]), array([-1. , -0.4]), array([1. , 1.6]), array([-1. , -1.4]), array([1. , 0.6])]\n[array([0. , 0.4]), array([-1. ,  0.4]), array([ 0. , -0.6]), array([ 1. , -1.6]), array([0. , 1.4])]\n[[0.   0.16]\n [1.   0.16]\n [1.   2.56]\n [1.   1.96]\n [1.   0.36]]\n[[0.   0.16]\n [1.   0.16]\n [0.   0.36]\n [1.   2.56]\n [0.   1.96]]\n[0.8  1.04]\n[0.4  1.04]\n"
     ]
    }
   ],
   "source": [
    "#compute variance σ2\n",
    "e=[]\n",
    "f=[]\n",
    "for i in range(len(c)):\n",
    "   e.append(c[i]-m0)\n",
    "   f.append(d[i]-m1)\n",
    "print(e)\n",
    "print(f)\n",
    "e=np.square(e)\n",
    "f=np.square(f)\n",
    "print(e)\n",
    "print(f)\n",
    "variance_x = []\n",
    "variance_y = []\n",
    "variance_x = sum(e)/len(c)\n",
    "variance_y = sum(f)/len(d)\n",
    "print(variance_x)\n",
    "print(variance_y) "
   ]
  },
  {
   "cell_type": "code",
   "execution_count": 29,
   "metadata": {},
   "outputs": [
    {
     "output_type": "stream",
     "name": "stdout",
     "text": [
      "[0.03129720667070614, 0.03129720667070614, 0.03129720667070614, 0.03129720667070614, 0.03129720667070614]\n[0.12782243 0.1738746 ]\n0.03129720667070614\n0.022225075034139823\n"
     ]
    }
   ],
   "source": [
    "#Test data\n",
    "t=c[3]\n",
    "#gpdf for 0\n",
    "g11 = 1/(2*3.14*variance_x)**.5\n",
    "g12 = ((t-m0)**2)/(2*variance_x)\n",
    "g13 = g1*np.exp(-g2)\n",
    "print(g3)\n",
    "#gpdf for 1\n",
    "g21 = 1/(2*3.14*variance_y)**.5\n",
    "g22 = ((t-m0)**2)/(2*variance_y)\n",
    "g23 = g21*np.exp(-g22)\n",
    "print(g23)\n",
    "g31 = np.product(g13)\n",
    "g41 = np.product(g23)\n",
    "print(g31)\n",
    "print(g41)\n",
    " "
   ]
  },
  {
   "cell_type": "code",
   "execution_count": 28,
   "metadata": {},
   "outputs": [
    {
     "output_type": "stream",
     "name": "stdout",
     "text": [
      "Prediction = 0.0\n"
     ]
    }
   ],
   "source": [
    "if(g31>g41):\n",
    "    print(\"Prediction = 0.0\")\n",
    "else:\n",
    "    print(\"Prediction = 1\")"
   ]
  }
 ]
}