{
 "metadata": {
  "language_info": {
   "codemirror_mode": {
    "name": "ipython",
    "version": 3
   },
   "file_extension": ".py",
   "mimetype": "text/x-python",
   "name": "python",
   "nbconvert_exporter": "python",
   "pygments_lexer": "ipython3",
   "version": "3.9.1-final"
  },
  "orig_nbformat": 2,
  "kernelspec": {
   "name": "python3",
   "display_name": "Python 3.9.1 64-bit",
   "metadata": {
    "interpreter": {
     "hash": "38740d3277777e2cd7c6c2cc9d8addf5118fdf3f82b1b39231fd12aeac8aee8b"
    }
   }
  }
 },
 "nbformat": 4,
 "nbformat_minor": 2,
 "cells": [
  {
   "cell_type": "code",
   "execution_count": 2,
   "metadata": {},
   "outputs": [],
   "source": [
    "import pandas as pd\n",
    "import numpy as np"
   ]
  },
  {
   "cell_type": "code",
   "execution_count": 3,
   "metadata": {},
   "outputs": [],
   "source": [
    "df = pd.read_csv(\"Candidate_Elimination_dataset.csv\")"
   ]
  },
  {
   "cell_type": "code",
   "execution_count": 5,
   "metadata": {},
   "outputs": [
    {
     "output_type": "execute_result",
     "data": {
      "text/plain": [
       "     Sky Temp.   Humid    Wind Water  Forest Output\n",
       "0  Sunny  Warm  Normal  Strong  Warm    Same    Yes\n",
       "1  Sunny  Warm    High  Strong  Warm    Same    Yes\n",
       "2  Rainy  Cold    High  Strong  Warm  Change     No\n",
       "3  Sunny  Warm    High  Strong  Cool  Change    Yes"
      ],
      "text/html": "<div>\n<style scoped>\n    .dataframe tbody tr th:only-of-type {\n        vertical-align: middle;\n    }\n\n    .dataframe tbody tr th {\n        vertical-align: top;\n    }\n\n    .dataframe thead th {\n        text-align: right;\n    }\n</style>\n<table border=\"1\" class=\"dataframe\">\n  <thead>\n    <tr style=\"text-align: right;\">\n      <th></th>\n      <th>Sky</th>\n      <th>Temp.</th>\n      <th>Humid</th>\n      <th>Wind</th>\n      <th>Water</th>\n      <th>Forest</th>\n      <th>Output</th>\n    </tr>\n  </thead>\n  <tbody>\n    <tr>\n      <th>0</th>\n      <td>Sunny</td>\n      <td>Warm</td>\n      <td>Normal</td>\n      <td>Strong</td>\n      <td>Warm</td>\n      <td>Same</td>\n      <td>Yes</td>\n    </tr>\n    <tr>\n      <th>1</th>\n      <td>Sunny</td>\n      <td>Warm</td>\n      <td>High</td>\n      <td>Strong</td>\n      <td>Warm</td>\n      <td>Same</td>\n      <td>Yes</td>\n    </tr>\n    <tr>\n      <th>2</th>\n      <td>Rainy</td>\n      <td>Cold</td>\n      <td>High</td>\n      <td>Strong</td>\n      <td>Warm</td>\n      <td>Change</td>\n      <td>No</td>\n    </tr>\n    <tr>\n      <th>3</th>\n      <td>Sunny</td>\n      <td>Warm</td>\n      <td>High</td>\n      <td>Strong</td>\n      <td>Cool</td>\n      <td>Change</td>\n      <td>Yes</td>\n    </tr>\n  </tbody>\n</table>\n</div>"
     },
     "metadata": {},
     "execution_count": 5
    }
   ],
   "source": [
    "df.head()"
   ]
  },
  {
   "cell_type": "code",
   "execution_count": 7,
   "metadata": {},
   "outputs": [
    {
     "output_type": "execute_result",
     "data": {
      "text/plain": [
       "(4, 7)"
      ]
     },
     "metadata": {},
     "execution_count": 7
    }
   ],
   "source": [
    "df.shape"
   ]
  },
  {
   "cell_type": "code",
   "execution_count": 9,
   "metadata": {},
   "outputs": [
    {
     "output_type": "stream",
     "name": "stdout",
     "text": [
      "<class 'pandas.core.frame.DataFrame'>\nRangeIndex: 4 entries, 0 to 3\nData columns (total 7 columns):\n #   Column  Non-Null Count  Dtype \n---  ------  --------------  ----- \n 0   Sky     4 non-null      object\n 1   Temp.   4 non-null      object\n 2   Humid   4 non-null      object\n 3   Wind    4 non-null      object\n 4   Water   4 non-null      object\n 5   Forest  4 non-null      object\n 6   Output  4 non-null      object\ndtypes: object(7)\nmemory usage: 352.0+ bytes\n"
     ]
    }
   ],
   "source": [
    "df.info()"
   ]
  },
  {
   "cell_type": "code",
   "execution_count": 11,
   "metadata": {},
   "outputs": [],
   "source": [
    "# features is all features where [:,:-1] represents [rows, columns] i.e. all rows and all colum\n",
    "concepts= np.array(df)[:,:-1]\n",
    "# target is last column where [:,-1] represents [rows, columns] i.e. all rows and last one colu\n",
    "target = np.array(df)[:,-1]"
   ]
  },
  {
   "cell_type": "code",
   "execution_count": 21,
   "metadata": {},
   "outputs": [
    {
     "output_type": "stream",
     "name": "stdout",
     "text": [
      "\nInitialization of specific_h and general_h\n\n So:  ['θ', 'θ', 'θ', 'θ', 'θ', 'θ']\n\n Go:  ['?', '?', '?', '?', '?', '?']\n\nInstance 1 is  ['Sunny' 'Warm' 'Normal' 'Strong' 'Warm' 'Same']\nS 1 is ['θ', 'θ', 'θ', 'θ', 'θ', 'θ']\nG 1 is [['?', '?', '?', '?', '?', '?'], ['?', '?', '?', '?', '?', '?'], ['?', '?', '?', '?', '?', '?'], ['?', '?', '?', '?', '?', '?'], ['?', '?', '?', '?', '?', '?'], ['?', '?', '?', '?', '?', '?']]\n\n\n\nInstance 2 is  ['Sunny' 'Warm' 'High' 'Strong' 'Warm' 'Same']\nS 2 is ['θ', 'θ', 'θ', 'θ', 'θ', 'θ']\nG 2 is [['?', '?', '?', '?', '?', '?'], ['?', '?', '?', '?', '?', '?'], ['?', '?', '?', '?', '?', '?'], ['?', '?', '?', '?', '?', '?'], ['?', '?', '?', '?', '?', '?'], ['?', '?', '?', '?', '?', '?']]\n\n\n\nInstance 3 is  ['Rainy' 'Cold' 'High' 'Strong' 'Warm' 'Change']\nS 3 is ['θ', 'θ', 'θ', 'θ', 'θ', 'θ']\nG 3 is [['?', '?', '?', '?', '?', '?'], ['?', '?', '?', '?', '?', '?'], ['?', '?', '?', '?', '?', '?'], ['?', '?', '?', '?', '?', '?'], ['?', '?', '?', '?', '?', '?'], ['?', '?', '?', '?', '?', '?']]\n\n\n\nInstance 4 is  ['Sunny' 'Warm' 'High' 'Strong' 'Cool' 'Change']\nS 4 is ['θ', 'θ', 'θ', 'θ', 'θ', 'θ']\nG 4 is [['?', '?', '?', '?', '?', '?'], ['?', '?', '?', '?', '?', '?'], ['?', '?', '?', '?', '?', '?'], ['?', '?', '?', '?', '?', '?'], ['?', '?', '?', '?', '?', '?'], ['?', '?', '?', '?', '?', '?']]\n\n\nFinal Specific_h: \n['θ', 'θ', 'θ', 'θ', 'θ', 'θ']\nFinal General_h: \n[]\n"
     ]
    }
   ],
   "source": [
    "def learn(concepts, target):\n",
    "    specific_h = concepts[0]\n",
    "    print(\"\\nInitialization of specific_h and general_h\")\n",
    "    specific_h = [\"θ\" for i in range(len(specific_h))]\n",
    "    print(\"\\n So: \", specific_h)\n",
    "    general_h = [\"?\" for i in range(len(specific_h))]\n",
    "    print(\"\\n Go: \", general_h)\n",
    "    # print(\"\\nSpecific Boundary: \", specific_h)\n",
    "    general_h = [[\"?\" for i in range(len(specific_h))] for i in range(len(specific_h))]\n",
    "    for i, h in enumerate(concepts):\n",
    "        print(\"\\nInstance\", i+1 , \"is \", h)\n",
    "        if target[i] == \"yes\":\n",
    "            print(\"Instance is Positive \")\n",
    "            specific_h = concepts[0]\n",
    "            for x in range(len(specific_h)):\n",
    "                if h[x]!= specific_h[x]:\n",
    "                    specific_h[x] ='?'\n",
    "                    general_h[x][x] ='?'\n",
    "        if target[i] == \"no\":\n",
    "            print(\"Instance is Negative \")\n",
    "            for x in range(len(specific_h)):\n",
    "                if h[x]!= specific_h[x]:\n",
    "                    general_h[x][x] = specific_h[x]\n",
    "                else:\n",
    "                    general_h[x][x] = '?'\n",
    "        print(\"S\", i+1, \"is\", specific_h)\n",
    "        print(\"G\", i+1, \"is\", general_h)\n",
    "        print(\"\\n\")\n",
    "    indices = [i for i, val in enumerate(general_h) if val == ['?', '?', '?', '?', '?', '?']]\n",
    "    for i in indices:\n",
    "        general_h.remove(['?', '?', '?', '?', '?', '?'])\n",
    "    return specific_h, general_h\n",
    "# calling function\n",
    "s_final, g_final = learn(concepts, target)\n",
    "print(\"Final Specific_h: \", s_final, sep=\"\\n\")\n",
    "print(\"Final General_h: \", g_final, sep=\"\\n\")"
   ]
  },
  {
   "cell_type": "code",
   "execution_count": null,
   "metadata": {},
   "outputs": [],
   "source": []
  }
 ]
}