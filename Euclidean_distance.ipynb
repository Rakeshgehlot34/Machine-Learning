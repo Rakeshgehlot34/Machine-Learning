{
 "cells": [
  {
   "cell_type": "code",
   "execution_count": 8,
   "metadata": {},
   "outputs": [],
   "source": [
    "import pandas as pd\n",
    "import numpy as np\n",
    "import math"
   ]
  },
  {
   "cell_type": "code",
   "execution_count": 9,
   "metadata": {},
   "outputs": [
    {
     "name": "stdout",
     "output_type": "stream",
     "text": [
      "      X     Y\n",
      "0  0.40  0.53\n",
      "1  0.22  0.38\n",
      "2  0.35  0.32\n",
      "3  0.26  0.19\n",
      "4  0.08  0.41\n",
      "5  0.45  0.30\n"
     ]
    }
   ],
   "source": [
    "data = pd.read_csv(\"./Euclidean.csv\")\n",
    "print(data)"
   ]
  },
  {
   "cell_type": "code",
   "execution_count": 10,
   "metadata": {},
   "outputs": [],
   "source": [
    "a=np.array(data)"
   ]
  },
  {
   "cell_type": "code",
   "execution_count": 31,
   "metadata": {},
   "outputs": [
    {
     "name": "stdout",
     "output_type": "stream",
     "text": [
      "[[0.4  0.53]\n",
      " [0.22 0.38]\n",
      " [0.35 0.32]\n",
      " [0.26 0.19]\n",
      " [0.08 0.41]\n",
      " [0.45 0.3 ]]\n"
     ]
    }
   ],
   "source": [
    "print(a)"
   ]
  },
  {
   "cell_type": "code",
   "execution_count": 33,
   "metadata": {},
   "outputs": [
    {
     "name": "stdout",
     "output_type": "stream",
     "text": [
      "[0.]\n",
      "[0.23 0.  ]\n",
      "[0.22 0.14 0.  ]\n",
      "[0.37 0.19 0.16 0.  ]\n",
      "[0.34 0.14 0.28 0.28 0.  ]\n",
      "[0.24 0.24 0.1  0.22 0.39 0.  ]\n"
     ]
    }
   ],
   "source": [
    "b = []\n",
    "c= []\n",
    "for i in range(len(a)):\n",
    "    for j in range(len(a)):\n",
    "        if i>=j:\n",
    "            x=a[i,0]-a[j,0]\n",
    "            x=x*x\n",
    "            y=a[i,-1]-a[j,-1]\n",
    "            y=y*y\n",
    "            z=x+y\n",
    "            z=np.sqrt(z)\n",
    "            b.append(z)\n",
    "    e=np.round(b,2)\n",
    "    print(e)\n",
    "    b=[]\n",
    "    "
   ]
  }
 ],
 "metadata": {
  "kernelspec": {
   "display_name": "Python 3",
   "language": "python",
   "name": "python3"
  },
  "language_info": {
   "codemirror_mode": {
    "name": "ipython",
    "version": 3
   },
   "file_extension": ".py",
   "mimetype": "text/x-python",
   "name": "python",
   "nbconvert_exporter": "python",
   "pygments_lexer": "ipython3",
   "version": "3.8.5"
  }
 },
 "nbformat": 4,
 "nbformat_minor": 4
}
